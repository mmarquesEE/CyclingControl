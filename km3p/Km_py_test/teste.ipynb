{
 "cells": [
  {
   "cell_type": "code",
   "execution_count": 10,
   "metadata": {
    "tags": []
   },
   "outputs": [
    {
     "name": "stdout",
     "output_type": "stream",
     "text": [
      "MinimalModbus debug mode. Serial port /dev/ttyUSB0 already exists\n",
      "MinimalModbus debug mode. Serial port /dev/ttyUSB0 is closed. Opening.\n",
      "MinimalModbus debug mode. Will write to instrument (expecting 8 bytes back): 01 06 00 06 00 0F 29 CF (8 bytes)\n",
      "MinimalModbus debug mode. Clearing serial buffers for port /dev/ttyUSB0\n",
      "MinimalModbus debug mode. No sleep required before write. Time since previous read: 291.40 ms, minimum silent period: 4.01 ms.\n",
      "MinimalModbus debug mode. Response from instrument: 01 06 00 06 00 0F 29 CF (8 bytes), roundtrip time: 0.0 ms. Timeout for reading: 125.0 ms.\n",
      "\n"
     ]
    }
   ],
   "source": [
    "import minimalmodbus\n",
    "from minimalmodbus import NoResponseError\n",
    "from minimalmodbus import InvalidResponseError\n",
    "instrument = minimalmodbus.Instrument('/dev/ttyUSB0', 1, debug=True)\n",
    "instrument.serial.timeout = 0.125 # km3p don't respond in time under 0.1s\n",
    "instrument.serial.baudrate = 9600\n",
    "                                    #functioncode: possible: 3(read n registers); 6(write 1 register), 16(preset n registers)  \n",
    "instrument.write_register(6, 15, 0, functioncode=6, signed=True)\n",
    "instrument.serial.close()"
   ]
  },
  {
   "cell_type": "code",
   "execution_count": null,
   "metadata": {},
   "outputs": [],
   "source": [
    "\n",
    "from Km_py_test import Modbus_test\n",
    "km = Modbus_test.km3(debug=True)\n",
    "baud = km.get_baud()"
   ]
  }
 ],
 "metadata": {
  "kernelspec": {
   "display_name": "Python 3",
   "language": "python",
   "name": "python3"
  },
  "language_info": {
   "codemirror_mode": {
    "name": "ipython",
    "version": 3
   },
   "file_extension": ".py",
   "mimetype": "text/x-python",
   "name": "python",
   "nbconvert_exporter": "python",
   "pygments_lexer": "ipython3",
   "version": "3.10.12"
  }
 },
 "nbformat": 4,
 "nbformat_minor": 2
}
