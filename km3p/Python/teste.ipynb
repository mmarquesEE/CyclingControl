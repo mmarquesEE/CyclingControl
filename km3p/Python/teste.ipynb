{
 "cells": [
  {
   "cell_type": "code",
   "execution_count": 11,
   "metadata": {},
   "outputs": [
    {
     "name": "stdout",
     "output_type": "stream",
     "text": [
      "MinimalModbus debug mode. Serial port COM5 already exists\n",
      "MinimalModbus debug mode. Serial port COM5 is closed. Opening.\n",
      "MinimalModbus debug mode. Will write to instrument (expecting 8 bytes back): 01 06 00 06 00 1A E8 00 (8 bytes)\n",
      "MinimalModbus debug mode. Clearing serial buffers for port COM5\n",
      "MinimalModbus debug mode. No sleep required before write. Time since previous read: 9422.00 ms, minimum silent period: 4.01 ms.\n",
      "MinimalModbus debug mode. Response from instrument: 01 06 00 06 00 1A E8 00 (8 bytes), roundtrip time: 0.2 ms. Timeout for reading: 0.0 ms.\n",
      "\n"
     ]
    }
   ],
   "source": [
    "import minimalmodbus as mb\n",
    "from minimalmodbus import NoResponseError\n",
    "from minimalmodbus import InvalidResponseError\n",
    "instrument = mb.Instrument('COM5', 1, debug=True)\n",
    "instrument.serial.timeout = 1\n",
    "instrument.serial.baudrate = 9600\n",
    "instrument.write_register(6, 26, 0, functioncode=6, signed=True)\n",
    "instrument.serial.close()"
   ]
  },
  {
   "cell_type": "code",
   "execution_count": null,
   "metadata": {},
   "outputs": [],
   "source": []
  }
 ],
 "metadata": {
  "kernelspec": {
   "display_name": "Python 3",
   "language": "python",
   "name": "python3"
  },
  "language_info": {
   "codemirror_mode": {
    "name": "ipython",
    "version": 3
   },
   "file_extension": ".py",
   "mimetype": "text/x-python",
   "name": "python",
   "nbconvert_exporter": "python",
   "pygments_lexer": "ipython3",
   "version": "3.12.2"
  }
 },
 "nbformat": 4,
 "nbformat_minor": 2
}
